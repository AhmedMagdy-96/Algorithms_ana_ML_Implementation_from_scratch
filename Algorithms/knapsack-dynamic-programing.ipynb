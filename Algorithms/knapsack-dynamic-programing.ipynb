{
 "cells": [
  {
   "cell_type": "code",
   "execution_count": 28,
   "metadata": {},
   "outputs": [
    {
     "name": "stdout",
     "output_type": "stream",
     "text": [
      "[[ 0.  0.  0.  0.  0.  0.  0.  0.  0.  0.  0.  0.  0.  0.  0.  0.]\n",
      " [ 0.  5.  5.  5.  5.  5.  5.  5.  5.  5.  5.  5.  5.  5.  5.  5.]\n",
      " [ 0.  5.  5. 10. 15. 15. 15. 15. 15. 15. 15. 15. 15. 15. 15. 15.]\n",
      " [ 0.  5.  5. 10. 15. 15. 20. 20. 25. 30. 30. 30. 30. 30. 30. 30.]\n",
      " [ 0.  5.  5. 10. 15. 15. 20. 20. 25. 30. 30. 30. 32. 37. 37. 37.]\n",
      " [ 0.  8. 13. 13. 18. 23. 23. 28. 28. 33. 38. 38. 38. 40. 45. 45.]\n",
      " [ 0.  8. 13. 13. 18. 23. 23. 28. 32. 33. 38. 38. 42. 47. 47. 47.]\n",
      " [ 0.  8. 13. 13. 18. 23. 23. 28. 32. 33. 38. 38. 42. 47. 47. 51.]]\n",
      "51.0\n"
     ]
    }
   ],
   "source": [
    "import numpy as np\n",
    "def knapsack_DP(w,v,capacity):\n",
    "    n=len(v)\n",
    "    M=np.zeros((n+1,capacity+1))\n",
    "    for i in range(n+1):\n",
    "        for j in range(capacity+1):\n",
    "            if i == 0 or j == 0:\n",
    "                M[i,j] = 0\n",
    "            elif w[i-1]<=j:\n",
    "                M[i,j]=max(v[i-1]+M[i-1,j-w[i-1]],M[i-1,j])\n",
    "            else:\n",
    "                M[i,j]=M[i-1,j]\n",
    "    \n",
    "    print(M)\n",
    "    return M[n,capacity]\n",
    "\n",
    "w=[1,3,5,4,1,3,2]\n",
    "v=[5,10,15,7,8,9,4]\n",
    "capacity=15\n",
    "print(knapsack_DP(w,v,capacity))"
   ]
  },
  {
   "cell_type": "code",
   "execution_count": null,
   "metadata": {},
   "outputs": [],
   "source": []
  }
 ],
 "metadata": {
  "kernelspec": {
   "display_name": "Python 3",
   "language": "python",
   "name": "python3"
  },
  "language_info": {
   "codemirror_mode": {
    "name": "ipython",
    "version": 3
   },
   "file_extension": ".py",
   "mimetype": "text/x-python",
   "name": "python",
   "nbconvert_exporter": "python",
   "pygments_lexer": "ipython3",
   "version": "3.8.3"
  }
 },
 "nbformat": 4,
 "nbformat_minor": 4
}
