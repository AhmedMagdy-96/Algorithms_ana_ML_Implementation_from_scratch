{
 "cells": [
  {
   "cell_type": "code",
   "execution_count": 8,
   "metadata": {},
   "outputs": [
    {
     "data": {
      "text/plain": [
       "{('A', 'B'): Text(-0.4183083386796524, -0.32148633623488765, '5'),\n",
       " ('A', 'F'): Text(0.000739021859029354, -0.72642407331532, '6'),\n",
       " ('B', 'C'): Text(-0.24860634018611918, 0.5989190611431716, '7'),\n",
       " ('B', 'F'): Text(0.013484329373635418, -0.20709961479408925, '1'),\n",
       " ('B', 'D'): Text(0.04508580274456678, 0.2264240733153203, '4'),\n",
       " ('C', 'D'): Text(0.20204249372349392, 0.6275050121721487, '5'),\n",
       " ('D', 'F'): Text(0.4641331632832485, -0.17851366376511213, '8')}"
      ]
     },
     "execution_count": 8,
     "metadata": {},
     "output_type": "execute_result"
    },
    {
     "data": {
      "image/png": "[encoded data removed]",
      "text/plain": [
       "<Figure size 432x288 with 1 Axes>"
      ]
     },
     "metadata": {},
     "output_type": "display_data"
    }
   ],
   "source": [
    "import matplotlib.pyplot as plt\n",
    "import networkx as nx\n",
    "\n",
    "graph2 = nx.Graph()\n",
    "graph2.add_edge(\"A\", \"B\", weight=5)\n",
    "graph2.add_edge(\"C\", \"D\", weight=4)\n",
    "graph2.add_edge(\"A\", \"F\", weight=6)\n",
    "graph2.add_edge(\"C\", \"B\", weight=7)\n",
    "graph2.add_edge(\"C\", \"D\", weight=5)\n",
    "graph2.add_edge(\"F\", \"D\", weight=8)\n",
    "graph2.add_edge(\"F\", \"B\", weight=1)\n",
    "graph2.add_edge(\"B\", \"D\", weight=4)\n",
    "pos=nx.spring_layout(graph2)\n",
    "nx.draw_networkx(graph2,pos)\n",
    "labels = nx.get_edge_attributes(graph2,'weight')\n",
    "nx.draw_networkx_edge_labels(graph2,pos,edge_labels=labels)"
   ]
  },
  {
   "cell_type": "code",
   "execution_count": 6,
   "metadata": {},
   "outputs": [
    {
     "data": {
      "text/plain": [
       "[('A', 'B'),\n",
       " ('A', 'F'),\n",
       " ('B', 'F'),\n",
       " ('B', 'D'),\n",
       " ('B', 'C'),\n",
       " ('F', 'D'),\n",
       " ('D', 'C')]"
      ]
     },
     "execution_count": 6,
     "metadata": {},
     "output_type": "execute_result"
    }
   ],
   "source": [
    "list(nx.edge_bfs(graph2,'A'))"
   ]
  },
  {
   "cell_type": "code",
   "execution_count": 7,
   "metadata": {},
   "outputs": [
    {
     "data": {
      "text/plain": [
       "[('A', 'B'),\n",
       " ('B', 'F'),\n",
       " ('F', 'A'),\n",
       " ('F', 'D'),\n",
       " ('D', 'B'),\n",
       " ('B', 'C'),\n",
       " ('C', 'D')]"
      ]
     },
     "execution_count": 7,
     "metadata": {},
     "output_type": "execute_result"
    }
   ],
   "source": [
    "list(nx.edge_dfs(graph2,'A'))"
   ]
  },
  {
   "cell_type": "code",
   "execution_count": 77,
   "metadata": {},
   "outputs": [
    {
     "data": {
      "text/plain": [
       "['A', 'B', 'C']"
      ]
     },
     "execution_count": 77,
     "metadata": {},
     "output_type": "execute_result"
    }
   ],
   "source": [
    "nx.dijkstra_path(graph2,'A','C')"
   ]
  },
  {
   "cell_type": "code",
   "execution_count": 75,
   "metadata": {},
   "outputs": [
    {
     "name": "stdout",
     "output_type": "stream",
     "text": [
      "[('B', 'F', {'weight': 1}), ('B', 'D', {'weight': 4}), ('B', 'A', {'weight': 5}), ('D', 'C', {'weight': 5})]\n"
     ]
    }
   ],
   "source": [
    "ls=list(nx.minimum_spanning_edges(graph2, algorithm=\"prim\"))\n",
    "print(ls)"
   ]
  },
  {
   "cell_type": "code",
   "execution_count": 76,
   "metadata": {},
   "outputs": [
    {
     "name": "stdout",
     "output_type": "stream",
     "text": [
      "[('B', 'F', {'weight': 1}), ('B', 'D', {'weight': 4}), ('A', 'B', {'weight': 5}), ('C', 'D', {'weight': 5})]\n"
     ]
    }
   ],
   "source": [
    "ls=list(nx.minimum_spanning_edges(graph2, algorithm=\"kruskal\"))\n",
    "print(ls)"
   ]
  },
  {
   "cell_type": "code",
   "execution_count": null,
   "metadata": {},
   "outputs": [],
   "source": []
  }
 ],
 "metadata": {
  "kernelspec": {
   "display_name": "Python 3",
   "language": "python",
   "name": "python3"
  },
  "language_info": {
   "codemirror_mode": {
    "name": "ipython",
    "version": 3
   },
   "file_extension": ".py",
   "mimetype": "text/x-python",
   "name": "python",
   "nbconvert_exporter": "python",
   "pygments_lexer": "ipython3",
   "version": "3.8.3"
  }
 },
 "nbformat": 4,
 "nbformat_minor": 4
}
