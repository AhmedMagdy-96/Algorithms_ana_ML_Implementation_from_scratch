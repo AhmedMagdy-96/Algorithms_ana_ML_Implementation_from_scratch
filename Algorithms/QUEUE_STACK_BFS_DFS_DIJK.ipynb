{
 "cells": [
  {
   "cell_type": "code",
   "execution_count": 10,
   "metadata": {},
   "outputs": [
    {
     "name": "stdout",
     "output_type": "stream",
     "text": [
      "False\n",
      "True\n",
      "[5]\n",
      "False\n",
      "False\n",
      "True\n"
     ]
    }
   ],
   "source": [
    "class Queue():\n",
    "    def __init__(self,size):\n",
    "        self.ls=[]\n",
    "        self.size=size\n",
    "    \n",
    "    def enqueue(self,n):\n",
    "        self.ls.append(n)\n",
    "    def dequeue(self):\n",
    "        deq=self.ls.pop(0)\n",
    "        return deq\n",
    "    def isfull(self):\n",
    "        return len(self.ls)==self.size\n",
    "    def isempty(self):\n",
    "        return len(self.ls)==0\n",
    "    def display(self):\n",
    "        return self.ls\n",
    "\n",
    "que=Queue(2)\n",
    "print(que.isfull())\n",
    "print(que.isempty())\n",
    "que.enqueue(5)\n",
    "print(que.display())\n",
    "print(que.isempty())\n",
    "print(que.isfull())\n",
    "que.dequeue()\n",
    "print(que.isempty())"
   ]
  },
  {
   "cell_type": "code",
   "execution_count": 11,
   "metadata": {},
   "outputs": [
    {
     "name": "stdout",
     "output_type": "stream",
     "text": [
      "[5, 3]\n",
      "[5]\n",
      "[]\n"
     ]
    }
   ],
   "source": [
    "class Stack():\n",
    "    def __init__(self,size):\n",
    "        self.ls=[]\n",
    "        self.size=size\n",
    "    \n",
    "    def push(self,n):\n",
    "        self.ls.append(n)\n",
    "    def pops(self):\n",
    "        deq=self.ls.pop(-1)\n",
    "        return  deq\n",
    "    def isfull(self):\n",
    "        return len(self.ls)==self.size\n",
    "    def isempty(self):\n",
    "        return len(self.ls)==0\n",
    "    def display(self):\n",
    "        return self.ls\n",
    "    \n",
    "stack=Stack(2)\n",
    "stack.push(5)\n",
    "stack.push(3)\n",
    "print(stack.display())\n",
    "stack.pops()\n",
    "print(stack.display())\n",
    "\n",
    "stack.pops()\n",
    "print(que.display())"
   ]
  },
  {
   "cell_type": "code",
   "execution_count": 12,
   "metadata": {},
   "outputs": [
    {
     "data": {
      "text/plain": [
       "['A', 'B', 'F', 'D', 'C']"
      ]
     },
     "execution_count": 12,
     "metadata": {},
     "output_type": "execute_result"
    }
   ],
   "source": [
    "adjList={'A':['B','F'],'B':['A','F','D','C'],'C':['B','D'],'D':['C','B','F'],'F':['A','B','D']}\n",
    "\n",
    "def BFS(graph):\n",
    "    queue=Queue(len(graph))\n",
    "    path=[]\n",
    "    res = list(graph.keys())[0]\n",
    "    queue.enqueue(res)\n",
    "    path.append(res)\n",
    "    while queue.isempty()==False:\n",
    "        v=queue.dequeue()\n",
    "        for w in graph[v]:\n",
    "            if w not in(path):\n",
    "                path.append(w)\n",
    "                queue.enqueue(w)\n",
    "    \n",
    "    return(path)\n",
    "    \n",
    "bfs=BFS(adjList)\n",
    "bfs"
   ]
  },
  {
   "cell_type": "code",
   "execution_count": 13,
   "metadata": {},
   "outputs": [
    {
     "data": {
      "text/plain": [
       "['A', 'F', 'D', 'B', 'C']"
      ]
     },
     "execution_count": 13,
     "metadata": {},
     "output_type": "execute_result"
    }
   ],
   "source": [
    "def DFS(graph):\n",
    "    stack=Stack(len(graph))\n",
    "    path=[]\n",
    "    res = list(graph.keys())[0]\n",
    "    stack.push(res) \n",
    "    while stack.isempty()==False:\n",
    "        v=stack.pops()\n",
    "        if v not in(path):\n",
    "            path.append(v)\n",
    "            for w in graph[v]: \n",
    "                stack.push(w)\n",
    "    \n",
    "    return(path)\n",
    "    \n",
    "dfs=DFS(adjList)\n",
    "dfs"
   ]
  },
  {
   "cell_type": "code",
   "execution_count": 24,
   "metadata": {},
   "outputs": [
    {
     "name": "stdout",
     "output_type": "stream",
     "text": [
      "['B', 'D', 'C']\n"
     ]
    },
    {
     "data": {
      "text/plain": [
       "({'A': 0, 'B': 5, 'C': 11, 'D': 9, 'F': 6},\n",
       " {'A': '', 'B': 'A', 'C': 'D', 'D': 'B', 'F': 'A'})"
      ]
     },
     "execution_count": 24,
     "metadata": {},
     "output_type": "execute_result"
    }
   ],
   "source": [
    "from queue import PriorityQueue\n",
    "graph = {'A':{'B':5,'F':6},\n",
    "'B':{'F':1,'D':4,'C':7,'A':5},\n",
    "'C':{'B':7,'D':2},\n",
    "'D':{'F':8,'B':4,'C':2},\n",
    "'F':{'D':8,'B':1,'A':6}}\n",
    "\n",
    "def dijkstraPQ(graph,start):\n",
    "    dist = {vertex:9999999 for vertex in graph} #intialize distances\n",
    "    dist[start]=0 #start vertex distance\n",
    "    pred={vertex:'' for vertex in graph}\n",
    "    Q=PriorityQueue()\n",
    "    for vertex,value in dist.items():\n",
    "        Q.put((value,vertex))\n",
    "    while Q.empty()==False:\n",
    "        u=Q.get()\n",
    "        for v,vdist in graph[u[1]].items():\n",
    "            if dist[u[1]]+vdist<dist[v]:\n",
    "                dist[v]=dist[u[1]]+vdist\n",
    "                pred[v]=u[1]\n",
    "               \n",
    "    \n",
    "    return dist,pred\n",
    "\n",
    "\n",
    "dijk\n",
    "s=[]\n",
    "u='C'\n",
    "\n",
    "if dijk[1][u] !='' or u=='A':\n",
    "    while dijk[1][u] !='':\n",
    "        s.insert(0,u)\n",
    "        u=dijk[1][u]\n",
    "print(s)\n",
    "dijk=dijkstraPQ(graph,'A')\n",
    "dijk "
   ]
  },
  {
   "cell_type": "code",
   "execution_count": 22,
   "metadata": {},
   "outputs": [
    {
     "name": "stdout",
     "output_type": "stream",
     "text": [
      "['B', 'D']\n"
     ]
    }
   ],
   "source": [
    "import heapq as heap\n",
    "graph = {'A':{'B':5,'F':6},\n",
    "'B':{'F':1,'D':4,'C':7,'A':5},\n",
    "'C':{'B':7,'D':2},\n",
    "'D':{'F':8,'B':4,'C':2},\n",
    "'F':{'D':8,'B':1,'A':6}}\n",
    "\n",
    "def dijkstraHeap(graph,start):\n",
    "    dist = {vertex:9999999 for vertex in graph} #intialize distances\n",
    "    dist[start]=0 #start vertex distance\n",
    "    pred={vertex:'' for vertex in graph}\n",
    "    Q=[]\n",
    "    for vertex,value in dist.items():\n",
    "        heap.heappush(Q,[value,vertex])\n",
    "    while Q:\n",
    "        u=heap.heappop(Q)\n",
    "     \n",
    "       \n",
    "        for v,vdist in graph[u[1]].items():\n",
    "            if dist[u[1]]+vdist<dist[v]:\n",
    "                dist[v]=dist[u[1]]+vdist\n",
    "                pred[v]=u[1]\n",
    "                \n",
    "                \n",
    "    \n",
    "    return dist,pred\n",
    "\n",
    "dijk=dijkstraHeap(graph,'A')\n",
    "dijk\n",
    "s=[]\n",
    "u='D'\n",
    "\n",
    "if dijk[1][u] !='' or u=='A':\n",
    "    while dijk[1][u] !='':\n",
    "        s.insert(0,u)\n",
    "        u=dijk[1][u]\n",
    "print(s)"
   ]
  },
  {
   "cell_type": "code",
   "execution_count": null,
   "metadata": {},
   "outputs": [],
   "source": []
  },
  {
   "cell_type": "code",
   "execution_count": null,
   "metadata": {},
   "outputs": [],
   "source": []
  }
 ],
 "metadata": {
  "kernelspec": {
   "display_name": "Python 3",
   "language": "python",
   "name": "python3"
  },
  "language_info": {
   "codemirror_mode": {
    "name": "ipython",
    "version": 3
   },
   "file_extension": ".py",
   "mimetype": "text/x-python",
   "name": "python",
   "nbconvert_exporter": "python",
   "pygments_lexer": "ipython3",
   "version": "3.8.3"
  }
 },
 "nbformat": 4,
 "nbformat_minor": 4
}
