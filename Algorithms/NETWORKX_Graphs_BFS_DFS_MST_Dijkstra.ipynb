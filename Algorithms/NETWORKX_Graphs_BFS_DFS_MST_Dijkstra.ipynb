{
 "cells": [
  {
   "cell_type": "code",
   "execution_count": 10,
   "metadata": {},
   "outputs": [
    {
     "data": {
      "text/plain": [
       "{}"
      ]
     },
     "execution_count": 10,
     "metadata": {},
     "output_type": "execute_result"
    },
    {
     "data": {
      "image/png": "[encoded data removed]",
      "text/plain": [
       "<Figure size 432x288 with 1 Axes>"
      ]
     },
     "metadata": {},
     "output_type": "display_data"
    }
   ],
   "source": [
    "import matplotlib.pyplot as plt\n",
    "import networkx as nx\n",
    "\n",
    "\n",
    "graph = {'A':{'B':5,'F':6},\n",
    "'B':{'F':1,'D':4,'C':7,'A':5},\n",
    "'C':{'B':7,'D':2},\n",
    "'D':{'F':8,'B':4,'C':2},\n",
    "'F':{'D':8,'B':1,'A':6}}\n",
    "graph2 = nx.Graph(graph)\n",
    "'''graph2.add_edge(\"A\", \"B\", weight=5)\n",
    "graph2.add_edge(\"C\", \"D\", weight=4)\n",
    "graph2.add_edge(\"A\", \"F\", weight=6)\n",
    "graph2.add_edge(\"C\", \"B\", weight=7)\n",
    "graph2.add_edge(\"C\", \"D\", weight=5)\n",
    "graph2.add_edge(\"F\", \"D\", weight=8)\n",
    "graph2.add_edge(\"F\", \"B\", weight=1)\n",
    "graph2.add_edge(\"B\", \"D\", weight=4)'''\n",
    "pos=nx.spring_layout(graph2)\n",
    "nx.draw_networkx(graph2,pos)\n",
    "labels = nx.get_edge_attributes(graph2,'weight')\n",
    "nx.draw_networkx_edge_labels(graph2,pos,edge_labels=labels)"
   ]
  },
  {
   "cell_type": "code",
   "execution_count": 11,
   "metadata": {},
   "outputs": [
    {
     "data": {
      "text/plain": [
       "[('A', 'B'),\n",
       " ('A', 'F'),\n",
       " ('B', 'F'),\n",
       " ('B', 'D'),\n",
       " ('B', 'C'),\n",
       " ('F', 'D'),\n",
       " ('D', 'C')]"
      ]
     },
     "execution_count": 11,
     "metadata": {},
     "output_type": "execute_result"
    }
   ],
   "source": [
    "list(nx.edge_bfs(graph2,'A'))"
   ]
  },
  {
   "cell_type": "code",
   "execution_count": 12,
   "metadata": {},
   "outputs": [
    {
     "data": {
      "text/plain": [
       "[('A', 'B'),\n",
       " ('B', 'F'),\n",
       " ('F', 'A'),\n",
       " ('F', 'D'),\n",
       " ('D', 'B'),\n",
       " ('B', 'C'),\n",
       " ('C', 'D')]"
      ]
     },
     "execution_count": 12,
     "metadata": {},
     "output_type": "execute_result"
    }
   ],
   "source": [
    "list(nx.edge_dfs(graph2,'A'))"
   ]
  },
  {
   "cell_type": "code",
   "execution_count": 13,
   "metadata": {},
   "outputs": [
    {
     "data": {
      "text/plain": [
       "['A', 'B', 'C']"
      ]
     },
     "execution_count": 13,
     "metadata": {},
     "output_type": "execute_result"
    }
   ],
   "source": [
    "nx.dijkstra_path(graph2,'A','C')"
   ]
  },
  {
   "cell_type": "code",
   "execution_count": 75,
   "metadata": {},
   "outputs": [
    {
     "name": "stdout",
     "output_type": "stream",
     "text": [
      "[('B', 'F', {'weight': 1}), ('B', 'D', {'weight': 4}), ('B', 'A', {'weight': 5}), ('D', 'C', {'weight': 5})]\n"
     ]
    }
   ],
   "source": [
    "ls=list(nx.minimum_spanning_edges(graph2, algorithm=\"prim\"))\n",
    "print(ls)"
   ]
  },
  {
   "cell_type": "code",
   "execution_count": 76,
   "metadata": {},
   "outputs": [
    {
     "name": "stdout",
     "output_type": "stream",
     "text": [
      "[('B', 'F', {'weight': 1}), ('B', 'D', {'weight': 4}), ('A', 'B', {'weight': 5}), ('C', 'D', {'weight': 5})]\n"
     ]
    }
   ],
   "source": [
    "ls=list(nx.minimum_spanning_edges(graph2, algorithm=\"kruskal\"))\n",
    "print(ls)"
   ]
  },
  {
   "cell_type": "code",
   "execution_count": null,
   "metadata": {},
   "outputs": [],
   "source": []
  }
 ],
 "metadata": {
  "kernelspec": {
   "display_name": "Python 3",
   "language": "python",
   "name": "python3"
  },
  "language_info": {
   "codemirror_mode": {
    "name": "ipython",
    "version": 3
   },
   "file_extension": ".py",
   "mimetype": "text/x-python",
   "name": "python",
   "nbconvert_exporter": "python",
   "pygments_lexer": "ipython3",
   "version": "3.8.3"
  }
 },
 "nbformat": 4,
 "nbformat_minor": 4
}
