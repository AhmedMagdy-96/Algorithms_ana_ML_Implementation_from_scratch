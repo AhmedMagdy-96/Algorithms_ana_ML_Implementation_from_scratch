{
 "cells": [
  {
   "cell_type": "code",
   "execution_count": 1,
   "metadata": {},
   "outputs": [],
   "source": [
    "import numpy as np\n",
    "import pandas as pd\n",
    "from scipy.stats import multivariate_normal\n",
    "import matplotlib.pyplot as plt\n",
    "%matplotlib inline"
   ]
  },
  {
   "cell_type": "code",
   "execution_count": 2,
   "metadata": {},
   "outputs": [],
   "source": [
    "class GaussianMixtureModel:\n",
    "    def __init__(self,k_clusters,init_mean,init_covariance,pi=np.zeros(2),iteration=50):\n",
    "        self.k_clusters=k_clusters\n",
    "        self.iteration=iteration\n",
    "        self.mean=init_mean\n",
    "        self.covariance=init_covariance\n",
    "        self.pi=pi\n",
    "        if np.array_equal(self.pi,np.zeros(2)):\n",
    "            self.pi = [1/self.k_clusters for k in range(self.k_clusters)]        \n",
    "        else:\n",
    "            self.pi=pi\n",
    "            \n",
    "        \n",
    "    def fit(self, data):\n",
    "        \n",
    "        #initializing responsibility array\n",
    "        self.r = np.zeros((len(data), self.k_clusters))\n",
    "        for it in range(self.iteration):\n",
    "            \n",
    "            #calculate responsibility\n",
    "            for i in range(len(data)):\n",
    "                for k in range(self.k_clusters):\n",
    "                    self.r[i, k] = self.pi[k]*multivariate_normal.pdf(data[i], mean=self.mean[k], cov=self.covariance[k])\n",
    "                    \n",
    "            #normalize responsibility\n",
    "            row_sum = self.r.sum(axis=1)[:, np.newaxis]\n",
    "            self.r = self.r / row_sum\n",
    "            N= np.sum(self.r, axis=0)\n",
    "            \n",
    "            #update pi\n",
    "            self.pi = [N[clust]/len(data) for clust in range(self.k_clusters)]\n",
    "            \n",
    "            #update cluster means\n",
    "            self.mean = [np.zeros(len(data[0]))] * self.k_clusters\n",
    "            for k in range(self.k_clusters):\n",
    "                weighted_sum = 0.\n",
    "                for i in range(len(data)): \n",
    "                    weighted_sum += self.r[i][k] * data[i]\n",
    "                nk_soft = N[k]\n",
    "                self.mean[k] = (1/nk_soft)*weighted_sum\n",
    "            \n",
    "            #update clusters covariance\n",
    "            self.covariance = [np.zeros((len(data[0]), len(data[0])))] * self.k_clusters\n",
    "            for k in range(self.k_clusters):\n",
    "                weighted_sum = np.zeros((len(data[0]), len(data[0])))\n",
    "                for i in range(len(data)):\n",
    "                    xi,uk = data[i], self.mean[k]\n",
    "                    weighted_sum += self.r[i][k]* np.outer(xi-uk,xi-uk)\n",
    "                nk_soft = N[k]\n",
    "                self.covariance[k] =(1/nk_soft)*weighted_sum\n",
    "            \n",
    "    def predict(self,data):\n",
    "        #calculating probabilities of data points (soft clustering)\n",
    "        prob = []\n",
    "        for i in range(len(data)):\n",
    "            prob.append([multivariate_normal.pdf(data[i], self.mean[k], self.covariance[k])\n",
    "                           for k in range(self.k_clusters)])\n",
    "\n",
    "        #getting cluster of each data point (hard clustering)\n",
    "        cluster = []\n",
    "        clusters = np.arange(self.k_clusters)\n",
    "        for proba in prob:\n",
    "            cluster.append(clusters[proba.index(max(proba))])\n",
    "            \n",
    "        return self.mean,self.pi,self.covariance,self.r,prob,cluster\n"
   ]
  },
  {
   "cell_type": "code",
   "execution_count": 3,
   "metadata": {},
   "outputs": [],
   "source": [
    "def generate_MoG_data(num_data, means, covariances, weights):\n",
    "    \"\"\" Creates a list of data points \"\"\"\n",
    "    num_clusters = len(weights)\n",
    "    data = []\n",
    "    for i in range(num_data):\n",
    "        k = np.random.choice(len(weights), 1, p=weights)[0]\n",
    "        x = np.random.multivariate_normal(means[k], covariances[k])\n",
    "\n",
    "        data.append(x)\n",
    "    return data"
   ]
  },
  {
   "cell_type": "code",
   "execution_count": 4,
   "metadata": {},
   "outputs": [
    {
     "name": "stdout",
     "output_type": "stream",
     "text": [
      "[array([0.31845368, 5.03182099]), array([1.45029339, 2.15717573]), array([1.02645431, 4.76042375]), array([ 5.23493625, -0.81138851]), array([ 4.65710743, -0.08532351])]\n"
     ]
    }
   ],
   "source": [
    "\n",
    "init_means = [\n",
    "    [5, 0],\n",
    "    [1, 1], \n",
    "    [0, 5]  \n",
    "]\n",
    "init_covariances = [\n",
    "    [[.5, 0.], [0, .5]],\n",
    "    [[.92, .38], [.38, .91]],\n",
    "    [[.5, 0.], [0, .5]] \n",
    "]\n",
    "init_weights = [1/4., 1/2., 1/4.]  \n",
    "\n",
    "np.random.seed(4)\n",
    "data = generate_MoG_data(100, init_means, init_covariances, init_weights)\n",
    "print(data[:5])"
   ]
  },
  {
   "cell_type": "code",
   "execution_count": 5,
   "metadata": {},
   "outputs": [
    {
     "data": {
      "image/png": "[encoded data removed]",
      "text/plain": [
       "<Figure size 432x288 with 1 Axes>"
      ]
     },
     "metadata": {
      "needs_background": "light"
     },
     "output_type": "display_data"
    }
   ],
   "source": [
    "plt.figure()\n",
    "d = np.vstack(data)\n",
    "plt.scatter(d[:,0], d[:,1])\n",
    "\n",
    "plt.tight_layout()"
   ]
  },
  {
   "cell_type": "code",
   "execution_count": 6,
   "metadata": {},
   "outputs": [],
   "source": [
    "np.random.seed(4)\n",
    "chosen = np.random.choice(len(data), 3, replace=False)\n",
    "initial_means = [data[x] for x in chosen]\n",
    "initial_covs = [np.cov(data, rowvar=0)] * 3\n",
    "initial_weights = [1/3.] * 3"
   ]
  },
  {
   "cell_type": "code",
   "execution_count": 7,
   "metadata": {},
   "outputs": [],
   "source": [
    "gmm_model=GaussianMixtureModel(3,initial_means,initial_covs)"
   ]
  },
  {
   "cell_type": "code",
   "execution_count": 8,
   "metadata": {},
   "outputs": [],
   "source": [
    "gmm_model.fit(data)"
   ]
  },
  {
   "cell_type": "code",
   "execution_count": 9,
   "metadata": {},
   "outputs": [],
   "source": [
    "mean,pi,covariance,responsibility,probabilities,clusters=gmm_model.predict(data)"
   ]
  },
  {
   "cell_type": "code",
   "execution_count": 10,
   "metadata": {
    "scrolled": true
   },
   "outputs": [
    {
     "name": "stdout",
     "output_type": "stream",
     "text": [
      "mean=  [array([0.0213607 , 4.94776653]), array([4.94239198, 0.31365344]), array([1.08181039, 0.7390666 ])]\n",
      "--------------------------------------------------------------\n",
      "pi=  [0.3007036502756672, 0.17993715237070484, 0.5193591973536278]\n",
      "--------------------------------------------------------------\n",
      "covariance=  [array([[0.29324532, 0.05052346],\n",
      "       [0.05052346, 0.35275804]]), array([[ 0.35564413, -0.01494922],\n",
      "       [-0.01494922,  0.66695052]]), array([[0.67114087, 0.33058391],\n",
      "       [0.33058391, 0.90436499]])]\n",
      "--------------------------------------------------------------\n",
      "responsibility=  [[9.99999757e-01 8.58553801e-21 2.42786909e-07]\n",
      " [1.85577031e-07 6.43427064e-09 9.99999808e-01]\n",
      " [9.99916852e-01 1.21031984e-15 8.31478807e-05]\n",
      " [5.80118302e-48 9.99999998e-01 2.43888849e-09]\n",
      " [1.36377137e-37 9.99997956e-01 2.04449835e-06]\n",
      " [9.99999175e-01 8.38376988e-20 8.24921777e-07]\n",
      " [9.99999986e-01 9.99584944e-24 1.39645653e-08]\n",
      " [2.68848596e-31 9.99774531e-01 2.25468738e-04]\n",
      " [5.47566469e-25 4.97212508e-07 9.99999503e-01]\n",
      " [9.99999997e-01 1.07682218e-26 2.73475303e-09]\n",
      " [5.49010456e-36 9.99999694e-01 3.05988232e-07]\n",
      " [5.41609357e-22 9.84769583e-15 1.00000000e+00]\n",
      " [1.82235482e-13 1.18652301e-17 1.00000000e+00]\n",
      " [6.03154210e-53 9.99999999e-01 9.44965564e-10]\n",
      " [7.01901796e-20 8.57676560e-08 9.99999914e-01]\n",
      " [2.93953524e-08 1.58396897e-11 9.99999971e-01]\n",
      " [5.89902811e-18 4.62948237e-07 9.99999537e-01]\n",
      " [3.44014893e-35 9.99997778e-01 2.22196252e-06]\n",
      " [9.99996889e-01 1.33617593e-18 3.11082256e-06]\n",
      " [3.87756685e-22 7.92980408e-09 9.99999992e-01]\n",
      " [9.99999998e-01 2.11184753e-23 2.35350196e-09]\n",
      " [1.37441705e-28 9.98185566e-01 1.81443367e-03]\n",
      " [2.78615104e-08 4.21047062e-13 9.99999972e-01]\n",
      " [3.20468767e-15 5.44944893e-09 9.99999995e-01]\n",
      " [1.37966703e-24 9.88271447e-01 1.17285528e-02]\n",
      " [1.00000000e+00 2.28859982e-25 7.03953687e-11]\n",
      " [3.64375285e-07 2.06080545e-13 9.99999636e-01]\n",
      " [9.99998976e-01 2.81405762e-19 1.02449339e-06]\n",
      " [2.04928447e-15 8.31018203e-07 9.99999169e-01]\n",
      " [9.99999967e-01 5.17880961e-26 3.25386958e-08]\n",
      " [5.48381230e-23 2.33954330e-13 1.00000000e+00]\n",
      " [1.43943159e-17 6.78009787e-05 9.99932199e-01]\n",
      " [9.43105379e-10 1.18051833e-08 9.99999987e-01]\n",
      " [1.48900332e-12 9.33876428e-16 1.00000000e+00]\n",
      " [7.90320273e-15 1.22475847e-09 9.99999999e-01]\n",
      " [3.73194774e-41 9.99999977e-01 2.26005734e-08]\n",
      " [3.77728297e-09 4.51958560e-12 9.99999996e-01]\n",
      " [9.99999685e-01 9.18430344e-22 3.14632309e-07]\n",
      " [8.54470445e-33 9.99997071e-01 2.92918692e-06]\n",
      " [2.19123124e-11 1.63354674e-04 9.99836645e-01]\n",
      " [9.99993945e-01 8.19901389e-20 6.05507912e-06]\n",
      " [6.18337540e-18 4.58752564e-15 1.00000000e+00]\n",
      " [5.54381785e-11 3.49679649e-12 1.00000000e+00]\n",
      " [1.51969865e-16 2.51528702e-06 9.99997485e-01]\n",
      " [9.99995669e-01 1.40871759e-19 4.33109679e-06]\n",
      " [9.99999989e-01 9.57434404e-22 1.13616800e-08]\n",
      " [4.64719664e-13 9.01398477e-03 9.90986015e-01]\n",
      " [9.99999289e-01 4.25245715e-25 7.10773326e-07]\n",
      " [9.99994241e-01 3.28087733e-20 5.75940339e-06]\n",
      " [9.99999995e-01 5.92128884e-23 5.29710977e-09]\n",
      " [9.99999806e-01 3.02360560e-23 1.93581778e-07]\n",
      " [3.89943848e-15 4.09574378e-05 9.99959043e-01]\n",
      " [2.10591922e-38 9.99999113e-01 8.86689382e-07]\n",
      " [3.09129604e-09 7.00007171e-12 9.99999997e-01]\n",
      " [5.31322111e-13 1.66693819e-13 1.00000000e+00]\n",
      " [5.04016875e-07 3.23614959e-11 9.99999496e-01]\n",
      " [9.99990553e-01 2.15094739e-21 9.44719152e-06]\n",
      " [2.19887409e-15 1.02007332e-12 1.00000000e+00]\n",
      " [9.99999765e-01 2.38660795e-23 2.35438765e-07]\n",
      " [3.79472054e-33 9.99989171e-01 1.08289222e-05]\n",
      " [2.52914912e-12 1.25795005e-07 9.99999874e-01]\n",
      " [1.99187586e-19 4.66131632e-08 9.99999953e-01]\n",
      " [7.43007399e-44 9.99999993e-01 6.79352662e-09]\n",
      " [2.59222248e-15 2.14177460e-23 1.00000000e+00]\n",
      " [9.99999998e-01 5.07289612e-24 2.33573890e-09]\n",
      " [9.98712291e-01 6.47080623e-13 1.28770905e-03]\n",
      " [1.80310715e-47 9.99999999e-01 5.39473453e-10]\n",
      " [2.76570878e-12 1.58414643e-07 9.99999842e-01]\n",
      " [2.79221755e-40 9.99999569e-01 4.30978304e-07]\n",
      " [9.90039915e-25 6.07291494e-11 1.00000000e+00]\n",
      " [1.85356776e-15 1.09772371e-07 9.99999890e-01]\n",
      " [9.99999980e-01 7.50776409e-24 1.97361682e-08]\n",
      " [9.99999984e-01 2.21865966e-26 1.57013764e-08]\n",
      " [1.23756886e-10 3.63106863e-09 9.99999996e-01]\n",
      " [1.30074582e-07 1.47605463e-07 9.99999722e-01]\n",
      " [7.18119281e-02 5.14237657e-11 9.28188072e-01]\n",
      " [9.99975247e-01 1.06820164e-20 2.47525155e-05]\n",
      " [5.43441455e-14 1.88444438e-08 9.99999981e-01]\n",
      " [2.82979329e-16 4.44728153e-05 9.99955527e-01]\n",
      " [1.10881176e-15 6.91669283e-14 1.00000000e+00]\n",
      " [1.00000000e+00 7.61065975e-26 2.08506449e-10]\n",
      " [4.04594119e-25 9.98176400e-01 1.82359967e-03]\n",
      " [1.40701676e-12 5.72689370e-13 1.00000000e+00]\n",
      " [1.00000000e+00 2.48464215e-29 1.89943462e-11]\n",
      " [5.12895429e-26 1.34428229e-19 1.00000000e+00]\n",
      " [2.07037305e-15 9.29097838e-07 9.99999071e-01]\n",
      " [7.13861683e-13 1.80899248e-10 1.00000000e+00]\n",
      " [7.56755244e-14 4.83018500e-13 1.00000000e+00]\n",
      " [9.99980100e-01 5.01693823e-22 1.99004529e-05]\n",
      " [8.61905354e-14 1.08631101e-10 1.00000000e+00]\n",
      " [1.48140714e-15 3.02960278e-10 1.00000000e+00]\n",
      " [6.62534884e-14 1.03441656e-09 9.99999999e-01]\n",
      " [9.99999816e-01 6.54168718e-22 1.83673698e-07]\n",
      " [5.00696583e-11 8.97391828e-08 9.99999910e-01]\n",
      " [3.67128919e-10 6.89266257e-11 1.00000000e+00]\n",
      " [1.61344606e-45 9.99999998e-01 1.92653215e-09]\n",
      " [9.99999900e-01 1.61590017e-20 1.00202414e-07]\n",
      " [9.24448120e-33 9.99990339e-01 9.66056137e-06]\n",
      " [2.17926230e-14 1.30515931e-15 1.00000000e+00]\n",
      " [2.78181455e-13 8.86630747e-09 9.99999991e-01]]\n",
      "--------------------------------------------------------------\n",
      "probabilities=  [[0.4303784236253524, 6.174985871845615e-21, 6.049879638299531e-08], [2.3305947066462784e-08, 1.3503915584869397e-09, 0.07271321088689219], [0.07409745888368086, 1.4988474625028753e-16, 3.567479482353597e-06], [3.973726700776917e-49, 0.11447200326517705, 9.6726226466863e-11], [2.096334788990508e-38, 0.25688339968798146, 1.8196032697278376e-07], [0.36937677596150353, 5.175200151306795e-20, 1.764223433945868e-07], [0.4494521031914066, 7.507943335479584e-24, 3.6339731815883416e-09], [2.3170748255746182e-32, 0.14399659159647743, 1.125095772919374e-05], [1.4549830147551223e-26, 2.2079080335964274e-08, 0.015384795749859287], [0.19536964199527157, 3.515757647267198e-27, 3.0934711266365115e-10], [3.071137757979164e-38, 0.009348381035887494, 9.91047062858825e-10], [4.217056710110503e-23, 1.2813735803339563e-15, 0.04508106380818555], [1.3793288272701754e-14, 1.500820993342275e-18, 0.04382336737249849], [6.204948682469431e-55, 0.01719205086323812, 5.628552047784529e-12], [1.0482428430970208e-20, 2.1405577555479704e-08, 0.08646819400003078], [5.3252738008916404e-09, 4.795432655842949e-12, 0.10489001095759372], [1.1359804502804428e-18, 1.4898436137500244e-07, 0.11149645617730193], [6.406015668400803e-36, 0.3111914410533351, 2.395622338957096e-07], [0.26835168325210346, 5.992212066254088e-19, 4.833389427080261e-07], [3.6066672873853045e-23, 1.2326140135157544e-09, 0.0538539615920415], [0.2052558623433289, 7.243959072329534e-24, 2.796926209028357e-10], [7.136263160628017e-30, 0.08661267763128656, 5.454617392398902e-05], [3.980883780574037e-09, 1.0053640239562297e-13, 0.08272670060406125], [1.1293922204327963e-15, 3.2094419550805456e-09, 0.20404687725377071], [4.656370876422823e-26, 0.05574005361576728, 0.00022918626056744025], [0.023885135158094595, 9.13514445354913e-27, 9.735150379028574e-13], [3.4408937144344146e-08, 3.252199638286491e-14, 0.054675537514976724], [0.30389423983775277, 1.4291366466494987e-19, 1.8026148541235384e-07], [4.971622438757914e-16, 3.369180550914809e-07, 0.14046444363421826], [0.16143727582219816, 1.3971776726836853e-26, 3.0414091608931414e-09], [3.929562385757113e-24, 2.8016285228195164e-14, 0.04148895339804487], [1.5037675431146756e-18, 1.183705041853814e-05, 0.060482690786440516], [2.2393663794550722e-10, 4.6844167266353386e-09, 0.13747882115120402], [2.1094923278748734e-13, 2.2110041376934983e-16, 0.08202630678470435], [2.9583146715066396e-15, 7.661424948043506e-10, 0.21672654989997028], [4.4538982616747764e-42, 0.19944473969571513, 1.5616908649463396e-09], [8.022092610408582e-10, 1.6040748297705118e-12, 0.12296429450011857], [0.47663093722243366, 7.315540952801581e-22, 8.682735186872528e-08], [4.86034019396031e-34, 0.09505746047024255, 9.64689569386923e-08], [1.201136900769743e-12, 1.4964207522367464e-05, 0.031732495145738455], [0.31890495333491553, 4.369617013462385e-20, 1.1180329168470631e-06], [9.48018687125069e-19, 1.1754053020447018e-15, 0.08876916962415535], [1.5916560315140585e-11, 1.6777547679214507e-12, 0.1662306640725232], [2.9508233500404935e-17, 8.161897570059575e-07, 0.1124230889464866], [0.3416596507434091, 8.04335742808493e-20, 8.567701678262347e-07], [0.17281784407584316, 2.7651294884503954e-22, 1.13684697986144e-09], [7.495949586396408e-15, 0.00024297986405961853, 0.009254948505088996], [0.0772234648526934, 5.487915245110311e-26, 3.177983125180229e-08], [0.3098012724974528, 1.69860949922937e-20, 1.033080275457263e-06], [0.2688390204098677, 2.660274243391732e-23, 8.245218182152851e-10], [0.3791613118984504, 1.9158746850592293e-23, 4.2497114982722606e-08], [5.256346903424385e-16, 9.226406471155274e-06, 0.07804319341035879], [3.5501348444132084e-39, 0.2817219030580307, 8.654570552925152e-08], [6.860248032169951e-10, 2.596088934949799e-12, 0.12849022566589913], [1.4244953098589096e-13, 7.468622129856269e-14, 0.15522941023828032], [6.305724158774902e-08, 6.766067653500191e-12, 0.07243701496717965], [0.18075538044918166, 6.497450525844743e-22, 9.887100063334538e-07], [6.633908758873071e-16, 5.143021933544689e-13, 0.17467872152801356], [0.3454927192081465, 1.3779642239651756e-23, 4.709641468972167e-08], [6.429237623385522e-34, 0.2831345276131941, 1.0622721280532323e-06], [7.22830170815602e-13, 6.008182157635353e-08, 0.16547510088499523], [3.429512538860947e-20, 1.341209310641309e-08, 0.09968756330411954], [9.319118432527562e-45, 0.2096039902778568, 4.93341723543578e-10], [1.2314163572786763e-17, 1.7002949548017848e-25, 0.0027504485078646656], [0.2855511988228197, 2.4207938941472276e-24, 3.861705540265371e-10], [0.01004565846796519, 1.0877128666097276e-14, 7.499402019485192e-06], [1.215934854152216e-48, 0.11269551380690622, 2.1063460491830112e-11], [7.695339322995232e-13, 7.366047361916427e-08, 0.1610987351460525], [3.785814890538692e-41, 0.22658324524202433, 3.383268023563977e-08], [4.4679054693366136e-26, 4.580008946390232e-12, 0.02612896123369079], [5.433145883259227e-16, 5.377170394938787e-08, 0.16971245828758047], [0.45038871959799687, 5.650878736145791e-24, 5.1466095779060085e-09], [0.16077613301615537, 5.9611511031690594e-27, 1.4616055515863137e-09], [3.709378795567013e-11, 1.818796564169611e-09, 0.17354123440622524], [1.1437777309623644e-08, 2.1690496196114945e-08, 0.05091197566982367], [0.000445337206630905, 5.329348569150772e-13, 0.0033327232336613595], [0.15017736185843386, 2.6809351993071564e-21, 2.1523130288020957e-06], [1.901594966612972e-14, 1.1019615375453268e-08, 0.20259845070804053], [3.606924105333415e-17, 9.473157821084432e-06, 0.07379617479846587], [2.683490582335858e-16, 2.7974259455405074e-14, 0.1401241934290595], [0.12901911384279713, 1.640945730274163e-26, 1.5575586924484363e-11], [2.050925493255333e-26, 0.08455814998503464, 5.352179814284982e-05], [4.102322230938774e-13, 2.7904065147721827e-13, 0.16881124452312454], [0.03204612598961879, 1.3306297891368655e-30, 3.5242828588097794e-13], [4.677914107871571e-28, 2.0489518262048677e-21, 0.00528073395503955], [4.960892228685344e-16, 3.7204073403636874e-07, 0.1387335998985692], [2.737474484934781e-13, 1.1592860914327312e-10, 0.22202755744730007], [2.26112287587273e-14, 2.411850290178872e-13, 0.17299740861855417], [0.08927849245549568, 7.48534983141362e-23, 1.0287013846558194e-06], [3.323056350087126e-14, 6.999228427535338e-11, 0.22322817078923274], [5.335744796707981e-16, 1.8235772388420793e-10, 0.20854101731153205], [2.5600280360352437e-14, 6.679582141671242e-10, 0.22372104771441792], [0.49465622252316843, 5.407682512226115e-22, 5.2604318509845246e-08], [1.2642707402238144e-11, 3.7867394694479836e-08, 0.1461962703392885], [1.060614810616654e-10, 3.327698471942955e-11, 0.16726688337842996], [1.5034747316948283e-46, 0.15572543007363326, 1.039414610103546e-10], [0.27441551706334877, 7.410390445212277e-21, 1.5920538971410536e-08], [1.4787250545544507e-33, 0.2673120577913085, 8.947014158963856e-07], [3.5324422481725065e-15, 3.5354683031818505e-16, 0.09385046695768567], [1.0077135415097146e-13, 5.367469254966126e-09, 0.20973928821673973]]\n",
      "--------------------------------------------------------------\n",
      "clusters=  [0, 2, 0, 1, 1, 0, 0, 1, 2, 0, 1, 2, 2, 1, 2, 2, 2, 1, 0, 2, 0, 1, 2, 2, 1, 0, 2, 0, 2, 0, 2, 2, 2, 2, 2, 1, 2, 0, 1, 2, 0, 2, 2, 2, 0, 0, 2, 0, 0, 0, 0, 2, 1, 2, 2, 2, 0, 2, 0, 1, 2, 2, 1, 2, 0, 0, 1, 2, 1, 2, 2, 0, 0, 2, 2, 2, 0, 2, 2, 2, 0, 1, 2, 0, 2, 2, 2, 2, 0, 2, 2, 2, 0, 2, 2, 1, 0, 1, 2, 2]\n"
     ]
    }
   ],
   "source": [
    "print('mean= ',mean)\n",
    "print('--------------------------------------------------------------')\n",
    "print('pi= ',pi)\n",
    "print('--------------------------------------------------------------')\n",
    "print('covariance= ',covariance)\n",
    "print('--------------------------------------------------------------')\n",
    "print('responsibility= ',responsibility)\n",
    "print('--------------------------------------------------------------')\n",
    "print('probabilities= ',probabilities)\n",
    "print('--------------------------------------------------------------')\n",
    "print('clusters= ',clusters)"
   ]
  },
  {
   "cell_type": "code",
   "execution_count": 11,
   "metadata": {},
   "outputs": [
    {
     "data": {
      "image/png": "[encoded data removed]",
      "text/plain": [
       "<Figure size 432x288 with 1 Axes>"
      ]
     },
     "metadata": {
      "needs_background": "light"
     },
     "output_type": "display_data"
    }
   ],
   "source": [
    "plt.figure()\n",
    "d = np.vstack(data)\n",
    "plt.scatter(d[:,0], d[:,1],c=clusters)\n",
    "plt.tight_layout()"
   ]
  },
  {
   "cell_type": "code",
   "execution_count": null,
   "metadata": {},
   "outputs": [],
   "source": []
  }
 ],
 "metadata": {
  "kernelspec": {
   "display_name": "Python 3",
   "language": "python",
   "name": "python3"
  },
  "language_info": {
   "codemirror_mode": {
    "name": "ipython",
    "version": 3
   },
   "file_extension": ".py",
   "mimetype": "text/x-python",
   "name": "python",
   "nbconvert_exporter": "python",
   "pygments_lexer": "ipython3",
   "version": "3.8.3"
  }
 },
 "nbformat": 4,
 "nbformat_minor": 4
}
