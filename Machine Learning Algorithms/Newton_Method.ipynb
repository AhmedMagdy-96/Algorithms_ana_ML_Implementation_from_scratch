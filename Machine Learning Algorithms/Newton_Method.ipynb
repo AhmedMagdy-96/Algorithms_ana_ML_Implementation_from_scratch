{
 "cells": [
  {
   "cell_type": "code",
   "execution_count": 1,
   "metadata": {},
   "outputs": [
    {
     "name": "stdout",
     "output_type": "stream",
     "text": [
      "number of iterations 5 \n",
      "Q1 answer =  1.618033988749895\n",
      "number of iterations 5 \n",
      "Q2 answer =  5.685779526089629\n",
      "number of iterations 4 \n",
      "Q3 answer =  0.7390851332151607\n"
     ]
    }
   ],
   "source": [
    "from sympy import *\n",
    "import math\n",
    "x=symbols('x')\n",
    "def newton(y,xnot):\n",
    "    dy=y.diff(x)\n",
    "    fx=y.subs(x,xnot)\n",
    "    dyxnot=dy.subs(x,xnot)\n",
    "    xn=xnot-(fx/dyxnot)\n",
    "    iteration_no=0\n",
    "    while Abs(fx)>=0.000001:\n",
    "        iteration_no+=1\n",
    "        fx=y.subs(x,xn)\n",
    "        dyxnot=dy.subs(x,xn)\n",
    "        xn=xn-(fx/dyxnot)\n",
    "    \n",
    "    print('number of iterations {} '.format(iteration_no))\n",
    "    return xn\n",
    "\n",
    "y1=x**2-x-1\n",
    "y2=x**3-7*(x)**2+8*x-3\n",
    "y3=x*cos(x)-x**2\n",
    "print('Q1 answer = ',float(newton(y1,1)))\n",
    "print('Q2 answer = ',float(newton(y2,5)))\n",
    "print('Q3 answer = ',float(newton(y3,1.0)))\n",
    "    "
   ]
  },
  {
   "cell_type": "code",
   "execution_count": null,
   "metadata": {},
   "outputs": [],
   "source": []
  }
 ],
 "metadata": {
  "kernelspec": {
   "display_name": "Python 3",
   "language": "python",
   "name": "python3"
  },
  "language_info": {
   "codemirror_mode": {
    "name": "ipython",
    "version": 3
   },
   "file_extension": ".py",
   "mimetype": "text/x-python",
   "name": "python",
   "nbconvert_exporter": "python",
   "pygments_lexer": "ipython3",
   "version": "3.8.3"
  }
 },
 "nbformat": 4,
 "nbformat_minor": 4
}
