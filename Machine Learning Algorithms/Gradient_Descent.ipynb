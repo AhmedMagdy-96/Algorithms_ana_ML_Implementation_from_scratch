{
 "cells": [
  {
   "cell_type": "code",
   "execution_count": 1,
   "metadata": {},
   "outputs": [],
   "source": [
    "import numpy as np\n",
    "import matplotlib.pyplot as plt\n",
    "from sklearn.metrics import r2_score\n",
    "%matplotlib inline"
   ]
  },
  {
   "cell_type": "code",
   "execution_count": 3,
   "metadata": {},
   "outputs": [
    {
     "data": {
      "image/png": "[encoded data removed]",
      "text/plain": [
       "<Figure size 432x288 with 1 Axes>"
      ]
     },
     "metadata": {
      "needs_background": "light"
     },
     "output_type": "display_data"
    }
   ],
   "source": [
    "x = np.array([1,1,2,3,4,5,6,7,8,9,10,11])\n",
    "y = np.array([1,2,3,1,4,5,6,4,7,10,15,9])\n",
    "w0=1\n",
    "w1=1\n",
    "lr=0.01\n",
    "iterno=1500\n",
    "plt.scatter(x,y)\n",
    "plt.xlabel(\"x\")\n",
    "plt.ylabel(\"y\")\n",
    "plt.show()"
   ]
  },
  {
   "cell_type": "code",
   "execution_count": 4,
   "metadata": {},
   "outputs": [],
   "source": [
    "def gradientdescent(w0,w1,x,y,lr,iterno):\n",
    "    h=np.zeros(len(x))\n",
    "    cost_hist=[]\n",
    "    w0_hist=[]\n",
    "    w1_hist=[]\n",
    "    \n",
    "    for i in range(len(x)):\n",
    "        h[i]=w0+w1*(x[i])\n",
    "\n",
    "    it=0\n",
    "    cost_func=(np.sum(np.square(h-y)))/(2*len(x))\n",
    "    while abs(cost_func)>0.0001 and it<iterno:\n",
    "        w0=w0-(lr*(np.sum(h-y)))/(len(x))\n",
    "        w1=w1-(lr*(np.sum((h-y)*x)))/(len(x))\n",
    "        for i in range(len(x)):\n",
    "            h[i]=w0+w1*(x[i])\n",
    "\n",
    "        cost_func=(np.sum(np.square(h-y)))/(2*len(x))\n",
    "        it+=1\n",
    "        cost_hist.append(cost_func)\n",
    "        w0_hist.append(w0)\n",
    "        w1_hist.append(w1)\n",
    "        \n",
    "    return cost_func,w0,w1,cost_hist,w0_hist,w1_hist,h"
   ]
  },
  {
   "cell_type": "code",
   "execution_count": 5,
   "metadata": {},
   "outputs": [
    {
     "name": "stdout",
     "output_type": "stream",
     "text": [
      "cost =1.908911054937555, theta 0 =-0.18511628026377122, theta 1 =1.0343048304641047\n"
     ]
    }
   ],
   "source": [
    "cost,w0,w1,ch,w0h,w1h,ypred=gradientdescent(w0,w1,x,y,lr,iterno)\n",
    "print(\"cost ={}, theta 0 ={}, theta 1 ={}\".format(cost,w0,w1))"
   ]
  },
  {
   "cell_type": "code",
   "execution_count": 6,
   "metadata": {},
   "outputs": [
    {
     "name": "stdout",
     "output_type": "stream",
     "text": [
      "0.7574916701270331\n"
     ]
    }
   ],
   "source": [
    "print(r2_score(y,ypred))"
   ]
  },
  {
   "cell_type": "code",
   "execution_count": 7,
   "metadata": {},
   "outputs": [
    {
     "data": {
      "image/png": "[encoded data removed]",
      "text/plain": [
       "<Figure size 432x288 with 1 Axes>"
      ]
     },
     "metadata": {
      "needs_background": "light"
     },
     "output_type": "display_data"
    }
   ],
   "source": [
    "plt.scatter(x,y)\n",
    "plt.plot(x, ypred, 'r-')\n",
    "plt.show()"
   ]
  },
  {
   "cell_type": "code",
   "execution_count": 8,
   "metadata": {},
   "outputs": [
    {
     "data": {
      "image/png": "[encoded data removed]",
      "text/plain": [
       "<Figure size 432x288 with 1 Axes>"
      ]
     },
     "metadata": {
      "needs_background": "light"
     },
     "output_type": "display_data"
    }
   ],
   "source": [
    "plt.plot(ch,range(iterno),\"r-\",label=\"cost\")\n",
    "plt.legend()\n",
    "plt.show()"
   ]
  },
  {
   "cell_type": "code",
   "execution_count": 18,
   "metadata": {},
   "outputs": [
    {
     "name": "stdout",
     "output_type": "stream",
     "text": [
      "[[nan nan]\n",
      " [ 1.  2.]\n",
      " [ 3.  2.]\n",
      " [ 3.  4.]\n",
      " [ 4.  3.]\n",
      " [ 2.  2.]\n",
      " [ 6.  6.]]\n",
      "[[1. 2.]\n",
      " [3. 2.]\n",
      " [3. 4.]\n",
      " [4. 3.]\n",
      " [2. 2.]\n",
      " [6. 6.]]\n",
      "[1. 3. 3. 4. 2. 6.]\n"
     ]
    }
   ],
   "source": [
    "#1)read data from csv file to numpy array\n",
    "#2)select specific column from numpy array\n",
    "data=np.genfromtxt(\"C:/Users/LENOVO/Desktop/Book1.csv\",delimiter=\",\")\n",
    "print(data)\n",
    "print(data[1:,:])\n",
    "\n",
    "print(data[1:,0])"
   ]
  },
  {
   "cell_type": "code",
   "execution_count": null,
   "metadata": {},
   "outputs": [],
   "source": []
  }
 ],
 "metadata": {
  "kernelspec": {
   "display_name": "Python 3",
   "language": "python",
   "name": "python3"
  },
  "language_info": {
   "codemirror_mode": {
    "name": "ipython",
    "version": 3
   },
   "file_extension": ".py",
   "mimetype": "text/x-python",
   "name": "python",
   "nbconvert_exporter": "python",
   "pygments_lexer": "ipython3",
   "version": "3.8.3"
  }
 },
 "nbformat": 4,
 "nbformat_minor": 4
}
